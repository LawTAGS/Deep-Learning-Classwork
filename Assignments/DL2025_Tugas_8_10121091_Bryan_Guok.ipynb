{
  "nbformat": 4,
  "nbformat_minor": 0,
  "metadata": {
    "colab": {
      "provenance": [],
      "include_colab_link": true
    },
    "kernelspec": {
      "name": "python3",
      "display_name": "Python 3"
    },
    "language_info": {
      "name": "python"
    }
  },
  "cells": [
    {
      "cell_type": "markdown",
      "metadata": {
        "id": "view-in-github",
        "colab_type": "text"
      },
      "source": [
        "<a href=\"https://colab.research.google.com/github/LawTAGS/Deep-Learning-Classwork/blob/main/Assignments/DL2025_Tugas_8_10121091_Bryan_Guok.ipynb\" target=\"_parent\"><img src=\"https://colab.research.google.com/assets/colab-badge.svg\" alt=\"Open In Colab\"/></a>"
      ]
    },
    {
      "cell_type": "markdown",
      "source": [
        "#**Identitas**#\n",
        "Nama: Bryan Guok\\\n",
        "NIM : 10121091"
      ],
      "metadata": {
        "id": "Ng3kJIVDIzO9"
      }
    },
    {
      "cell_type": "markdown",
      "source": [
        "#**Tugas 8:  Aplikasi Transformers**#\n",
        "Dengan menggunakan program yang ada di Edunex  \n",
        "1. Pilih sebuah film di web IMDB, ambil semua komentar dari film tersebut.\n",
        "2. Gunakan pipeline summarization untuk membuat ringkasan setiap komentar.\n",
        "3. Kemudian lakukan klasifikasi apakah komen tersebut positif atau negatif.\n",
        "4. Hitung perbandingan dengan komentar positif terhadap total komentar yang anda\n",
        "rangkum (Rasio = (jumlah komentar Positif / total komentar) × 100%).\n",
        "5. Bandingkan dengan rating aslinya dengan web IMDB dan berikan analisis sederhana\n",
        "terhadap perbandingannya."
      ],
      "metadata": {
        "id": "aQgfaWpFI6jT"
      }
    },
    {
      "cell_type": "markdown",
      "source": [
        "##Library untuk Scraping Komentar YouTube##"
      ],
      "metadata": {
        "id": "m2S59pGXJEQ4"
      }
    },
    {
      "cell_type": "code",
      "source": [
        "!pip install youtube-comment-downloader"
      ],
      "metadata": {
        "colab": {
          "base_uri": "https://localhost:8080/"
        },
        "id": "OjPh5QlqEySZ",
        "outputId": "d591b3b5-2f82-4827-8898-d9ee84809ad1"
      },
      "execution_count": null,
      "outputs": [
        {
          "output_type": "stream",
          "name": "stdout",
          "text": [
            "Collecting youtube-comment-downloader\n",
            "  Downloading youtube_comment_downloader-0.1.76-py3-none-any.whl.metadata (2.9 kB)\n",
            "Collecting dateparser (from youtube-comment-downloader)\n",
            "  Downloading dateparser-1.2.1-py3-none-any.whl.metadata (29 kB)\n",
            "Requirement already satisfied: requests in /usr/local/lib/python3.11/dist-packages (from youtube-comment-downloader) (2.32.3)\n",
            "Requirement already satisfied: python-dateutil>=2.7.0 in /usr/local/lib/python3.11/dist-packages (from dateparser->youtube-comment-downloader) (2.9.0.post0)\n",
            "Requirement already satisfied: pytz>=2024.2 in /usr/local/lib/python3.11/dist-packages (from dateparser->youtube-comment-downloader) (2025.2)\n",
            "Requirement already satisfied: regex!=2019.02.19,!=2021.8.27,>=2015.06.24 in /usr/local/lib/python3.11/dist-packages (from dateparser->youtube-comment-downloader) (2024.11.6)\n",
            "Requirement already satisfied: tzlocal>=0.2 in /usr/local/lib/python3.11/dist-packages (from dateparser->youtube-comment-downloader) (5.3.1)\n",
            "Requirement already satisfied: charset-normalizer<4,>=2 in /usr/local/lib/python3.11/dist-packages (from requests->youtube-comment-downloader) (3.4.2)\n",
            "Requirement already satisfied: idna<4,>=2.5 in /usr/local/lib/python3.11/dist-packages (from requests->youtube-comment-downloader) (3.10)\n",
            "Requirement already satisfied: urllib3<3,>=1.21.1 in /usr/local/lib/python3.11/dist-packages (from requests->youtube-comment-downloader) (2.4.0)\n",
            "Requirement already satisfied: certifi>=2017.4.17 in /usr/local/lib/python3.11/dist-packages (from requests->youtube-comment-downloader) (2025.4.26)\n",
            "Requirement already satisfied: six>=1.5 in /usr/local/lib/python3.11/dist-packages (from python-dateutil>=2.7.0->dateparser->youtube-comment-downloader) (1.17.0)\n",
            "Downloading youtube_comment_downloader-0.1.76-py3-none-any.whl (8.2 kB)\n",
            "Downloading dateparser-1.2.1-py3-none-any.whl (295 kB)\n",
            "\u001b[2K   \u001b[90m━━━━━━━━━━━━━━━━━━━━━━━━━━━━━━━━━━━━━━━━\u001b[0m \u001b[32m295.7/295.7 kB\u001b[0m \u001b[31m6.6 MB/s\u001b[0m eta \u001b[36m0:00:00\u001b[0m\n",
            "\u001b[?25hInstalling collected packages: dateparser, youtube-comment-downloader\n",
            "Successfully installed dateparser-1.2.1 youtube-comment-downloader-0.1.76\n"
          ]
        }
      ]
    },
    {
      "cell_type": "markdown",
      "source": [
        "##**Analisis Sentimen**##"
      ],
      "metadata": {
        "id": "25jF71RPJLF4"
      }
    },
    {
      "cell_type": "code",
      "execution_count": null,
      "metadata": {
        "colab": {
          "base_uri": "https://localhost:8080/"
        },
        "id": "KyY9voo1ELMa",
        "outputId": "fedba200-9c31-47e9-9799-a232e0042a3a"
      },
      "outputs": [
        {
          "output_type": "stream",
          "name": "stderr",
          "text": [
            "Device set to use cpu\n",
            "No model was supplied, defaulted to distilbert/distilbert-base-uncased-finetuned-sst-2-english and revision 714eb0f (https://huggingface.co/distilbert/distilbert-base-uncased-finetuned-sst-2-english).\n",
            "Using a pipeline without specifying a model name and revision in production is not recommended.\n",
            "Device set to use cpu\n"
          ]
        },
        {
          "output_type": "stream",
          "name": "stdout",
          "text": [
            "\n",
            " Rasio komentar positif YouTube: 56.67% (17/30)\n",
            "IMDb Rating: 9.3/10\n",
            "\n",
            " Analisis:\n",
            "Komentar YouTube tidak sejalan dengan rating IMDb atau film kurang disukai.\n",
            "\n",
            "---\n",
            "Komentar: Saw this and “Tombstone” at theatres. I’m prob part of 5% of people who seen 2 of the greatest movies ever at theatres. 😊\n",
            "Ringkasan: Saw this and “Tombstone” at theatres. I’m prob part of 5% of people who seen 2 of the greatest movies ever at theatres. 😊\n",
            "Sentimen: POSITIVE (1.00)\n",
            "\n",
            "---\n",
            "Komentar: Hatlen should have took his bird  “Jake” with him. 😢\n",
            "Ringkasan: Hatlen should have took his bird  “Jake” with him. 😢\n",
            "Sentimen: NEGATIVE (1.00)\n",
            "\n",
            "---\n",
            "Komentar: Do thy get toguether romanticly? 🙏\n",
            "Ringkasan: Do thy get toguether romanticly? 🙏\n",
            "Sentimen: NEGATIVE (0.66)\n",
            "\n",
            "---\n",
            "Komentar: I hope this film will be show on ASTRO or TV3\n",
            "Ringkasan: I hope this film will be show on ASTRO or TV3\n",
            "Sentimen: NEGATIVE (0.98)\n",
            "\n",
            "---\n",
            "Komentar: ❤\n",
            "Ringkasan: ❤\n",
            "Sentimen: NEGATIVE (0.70)\n"
          ]
        }
      ],
      "source": [
        "from youtube_comment_downloader import YoutubeCommentDownloader\n",
        "from transformers import pipeline\n",
        "import re\n",
        "\n",
        "# Fungsi untuk mengscrape komentar-komentar dari video trailer YouTube\n",
        "def get_youtube_comments(video_url, max_comments=50):\n",
        "    video_id = re.findall(r\"v=([a-zA-Z0-9_-]+)\", video_url)\n",
        "    if not video_id:\n",
        "        raise ValueError(\"URL tidak valid\")\n",
        "    video_id = video_id[0]\n",
        "\n",
        "    downloader = YoutubeCommentDownloader()\n",
        "    comments = []\n",
        "\n",
        "    for comment in downloader.get_comments_from_url(f\"https://www.youtube.com/watch?v={video_id}\"):\n",
        "        if comment['text'].strip():\n",
        "            comments.append(comment['text'].strip())\n",
        "        if len(comments) >= max_comments:\n",
        "            break\n",
        "\n",
        "    return comments\n",
        "\n",
        "\n",
        "# Fungsi untuk menganalisis sentimen\n",
        "def analyze_comments(comments):\n",
        "    summarizer = pipeline(\"summarization\", model=\"facebook/bart-large-cnn\", framework=\"pt\")\n",
        "    sentiment_classifier = pipeline(\"sentiment-analysis\")\n",
        "\n",
        "    summarized_comments = []\n",
        "    sentiment_results = []\n",
        "\n",
        "    for comment in comments:\n",
        "        try:\n",
        "            if len(comment.split()) > 30:\n",
        "                summary = summarizer(comment, max_length=50, min_length=25, do_sample=False)[0]['summary_text']\n",
        "            else:\n",
        "                summary = comment\n",
        "            summarized_comments.append(summary)\n",
        "\n",
        "            sentiment = sentiment_classifier(summary)[0]\n",
        "            sentiment_results.append({\n",
        "                \"original\": comment,\n",
        "                \"summary\": summary,\n",
        "                \"sentiment\": sentiment['label'],\n",
        "                \"confidence\": sentiment['score']\n",
        "            })\n",
        "        except Exception as e:\n",
        "            print(f\"Error: {e}\")\n",
        "            continue\n",
        "\n",
        "    return sentiment_results\n",
        "\n",
        "\n",
        "# Fungsi untuk menghitung rasio positif dari komentar\n",
        "def analyze_ratio_and_compare(results, imdb_rating):\n",
        "    total = len(results)\n",
        "    positive = sum(1 for r in results if r['sentiment'] == 'POSITIVE')\n",
        "    ratio = (positive / total) * 100 if total > 0 else 0\n",
        "\n",
        "    print(f\"\\n Rasio komentar positif YouTube: {ratio:.2f}% ({positive}/{total})\")\n",
        "    print(f\"IMDb Rating: {imdb_rating}/10\")\n",
        "\n",
        "    print(\"\\n Analisis:\")\n",
        "    if ratio >= 75 and imdb_rating >= 8:\n",
        "        print(\"Komentar YouTube dan rating IMDb sama-sama menunjukkan film ini sangat disukai.\")\n",
        "    elif ratio < 50 and imdb_rating >= 8:\n",
        "        print(\"IMDb menunjukkan rating tinggi, tapi komentar YouTube lebih bervariasi atau negatif.\")\n",
        "    else:\n",
        "        print(\"Komentar YouTube tidak sejalan dengan rating IMDb atau film kurang disukai.\")\n",
        "\n",
        "    return ratio\n",
        "\n",
        "\n",
        "if __name__ == \"__main__\":\n",
        "    video_url = \"https://www.youtube.com/watch?v=PLl99DlL6b4\"  # Trailer The Shawshank Redemption\n",
        "    imdb_rating = 9.3  # IMDb rating The Shawshank Redemption\n",
        "\n",
        "    comments = get_youtube_comments(video_url, max_comments=30)\n",
        "\n",
        "    results = analyze_comments(comments)\n",
        "\n",
        "    ratio = analyze_ratio_and_compare(results, imdb_rating)\n",
        "\n",
        "    # Print hasil per komentar\n",
        "    for r in results[:5]:  # Menampilkan 5 komentar pertama\n",
        "        print(\"\\n---\")\n",
        "        print(f\"Komentar: {r['original']}\")\n",
        "        print(f\"Ringkasan: {r['summary']}\")\n",
        "        print(f\"Sentimen: {r['sentiment']} ({r['confidence']:.2f})\")\n"
      ]
    },
    {
      "cell_type": "markdown",
      "source": [
        "##**Hasil**##"
      ],
      "metadata": {
        "id": "JChfp0ZXJSXN"
      }
    },
    {
      "cell_type": "code",
      "source": [
        "total = len(results)\n",
        "positive = sum(1 for r in results if r['sentiment'] == 'POSITIVE')\n",
        "ratio = (positive / total) * 100\n",
        "print(f\"Rasio komentar positif YouTube: {ratio:.2f}%\")\n",
        "\n",
        "print(f\"\\nIMDb Rating: {imdb_rating}/10\")\n",
        "\n",
        "if ratio >= 75 and imdb_rating >= 8:\n",
        "    print(\"Komentar YouTube dan rating IMDb sama-sama menunjukkan film ini disukai.\")\n",
        "elif ratio < 50 and imdb_rating >= 8:\n",
        "    print(\"IMDb menunjukkan rating tinggi, tapi komentar YouTube tidak sesuai.\")\n",
        "else:\n",
        "    print(\"Komentar YouTube tidak sesuai dengan rating IMDb.\")"
      ],
      "metadata": {
        "colab": {
          "base_uri": "https://localhost:8080/"
        },
        "id": "t44BWTgGFEDn",
        "outputId": "d42d1e59-beb5-46df-bbda-d6c413e761de"
      },
      "execution_count": null,
      "outputs": [
        {
          "output_type": "stream",
          "name": "stdout",
          "text": [
            "Rasio komentar positif YouTube: 56.67%\n",
            "\n",
            "IMDb Rating: 9.3/10\n",
            "Komentar YouTube tidak sesuai dengan rating IMDb.\n"
          ]
        }
      ]
    }
  ]
}